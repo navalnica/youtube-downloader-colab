{
  "nbformat": 4,
  "nbformat_minor": 0,
  "metadata": {
    "colab": {
      "provenance": []
    },
    "kernelspec": {
      "name": "python3",
      "display_name": "Python 3"
    },
    "language_info": {
      "name": "python"
    }
  },
  "cells": [
    {
      "cell_type": "markdown",
      "source": [
        "## Апісаньне\n",
        "Вітаю!\n",
        "\n",
        "Гэты інтэрактыўны ноўтбук дапаможа табе спампаваць аўдыя зь любога відэа на youtube. \n",
        "Без усталяваньня лішніх плагінаў у свой браўзер і без аніякай рэкламы.\n",
        "\n",
        "Мабыць пазьней я дадам магчымасьць спампоўваць і відэа.\n",
        "\n",
        "Увесь код выконваецца на бясплатнай віртуальнай машыне ў воблаку Google Colab. Таму табе не спатрэбіцца нічога ўсталёўваць на свой камп'ютар. \n",
        "\n",
        "### Запуск\n",
        "* Каб запусьціць ноўтбук табе спатрэбіца толькі \n",
        "  **зайсьці ў свой Google-акаўнт**, каб атрымаць доступ да бясплатнай віртуальнай машыны ў воблаку Google Colab\n",
        "* Ніякія даныя пра твой акаўнт не выкарыстоўваюцца.<br>\n",
        "  Доступ да твайго Google-дыску таксама не адбываецца.\n",
        "* Табе неабходна толькі ўвесьці спасылку на відэа ў форму ніжэй і запусьціць **\"клеткі\"** з кодам\n",
        "* Запускаць клеткі можна з дапамогай трохкутнічка ў левым верхнім куце клеткі\n",
        "* Пры першым запуску віртуальнай машыны неабходна выканаць клеткі \"Ініцыялізацыі\"\n",
        "* Калі захочаш, то можаш адкрыць \"Праваднік\" на віртуальнай машыне кнопкай з выявай тэчкі ў самым левым куце старонкі. Але гэта рабіць неабавязкова: ў ноўтбуку ўжо ёсьць гатовы код, які спампуе ўсе файлы зь віртуальнай машыны на твой лакальны камп'ютар\n",
        "* Па змоўчаньні аўдыяфайлы спампоўваюцца на віртуальную машыну ў тэчку `audio`.\n",
        "\n",
        "\n",
        "Код выкарыстоўвае бібліятэку [yt-dlp](https://github.com/yt-dlp/yt-dlp). Насамрэч усё можна зрабіць у 2 радкі коду (таму можаш сьмела эксьперыментаваць самастойна!), але для максімальна простага ўзаемадзеяньня з карыстальнікам коду тут трошку больш :)"
      ],
      "metadata": {
        "id": "7uxmCtroSlvy"
      }
    },
    {
      "cell_type": "code",
      "source": [],
      "metadata": {
        "id": "SZBquGYNSlY2"
      },
      "execution_count": null,
      "outputs": []
    },
    {
      "cell_type": "code",
      "source": [],
      "metadata": {
        "id": "xlUQ89d4SlEX"
      },
      "execution_count": null,
      "outputs": []
    },
    {
      "cell_type": "markdown",
      "source": [
        "## Ініцыялізацыя\n",
        "Ініцыялізуем віртуальную машыну.\n",
        "\n",
        "Можа заняць пару секунд - пачакай."
      ],
      "metadata": {
        "id": "ZZd2COf3wGsL"
      }
    },
    {
      "cell_type": "code",
      "source": [
        "# !python3 -m pip install -U yt-dlp > /dev/null\n",
        "\n",
        "# currently there is a bug with changed format of youtube channel names:\n",
        "# https://github.com/yt-dlp/yt-dlp/issues/6247\n",
        "# hack: \n",
        "#  * do not use pre-built python library with outdated code\n",
        "#  * copy original repo and run using yt-dlp.sh script instead\n",
        "!if [ ! -d yt-dlp ]; then git clone https://github.com/yt-dlp/yt-dlp.git > /dev/null; fi\n",
        "\n",
        "import glob\n",
        "import os\n",
        "import shutil\n",
        "import subprocess\n",
        "from IPython import display as ipd\n",
        "\n",
        "from google.colab import files\n",
        "\n",
        "!mkdir -p audio\n",
        "\n",
        "\n",
        "def convert_audio_to_mp3():\n",
        "    \"\"\" Функцыя для канвертацыі аўдыя ў .mp3 фармат \"\"\"\n",
        "\n",
        "    for fp in glob.glob('audio/*'):\n",
        "        if not fp.endswith('.mp3'):\n",
        "            new_fp = os.path.splitext(fp)[0] + '.mp3'\n",
        "            \n",
        "            if not os.path.isfile(new_fp):    \n",
        "                print(f'Канвертуем \"{fp}\" у \"{new_fp}\"')\n",
        "                \n",
        "                try:\n",
        "                    res = subprocess.run(\n",
        "                        ['ffmpeg', '-i', fp, '-acodec', 'libmp3lame', new_fp], \n",
        "                        capture_output=True, check=True\n",
        "                    )\n",
        "                except subprocess.CalledProcessError as e:\n",
        "                    print('subprocess call ended with non-zero exit code. '\n",
        "                          f'stderr message:\\n{e.stderr.decode()}')\n",
        "            else:\n",
        "                print(f'Файл \"{new_fp}\" ужо спампаваны. '\n",
        "                    'Калі хочаш спампаваць яго нанава, '\n",
        "                    'то спачатку выдалі стары файл.'\n",
        "                )\n",
        "\n",
        "            os.unlink(fp)  # remove original file"
      ],
      "metadata": {
        "id": "GyOxLJUE1EFF"
      },
      "execution_count": null,
      "outputs": []
    },
    {
      "cell_type": "code",
      "source": [],
      "metadata": {
        "id": "O6ov2hlY6Oxd"
      },
      "execution_count": null,
      "outputs": []
    },
    {
      "cell_type": "code",
      "source": [],
      "metadata": {
        "id": "pjaPdC1X_SY7"
      },
      "execution_count": null,
      "outputs": []
    },
    {
      "cell_type": "markdown",
      "source": [
        "## Спампаваць аўдыя зь youtube на віртуальную машыну\n",
        "* Пазнач у форме справа спасылку на відэа\n",
        "* Клетку можна перазапускаць некалькі разоў са спасылкамі на розныя відэа.<br>Усе відэа будуць спампаваныя на віртуальную машыну\n",
        "* Усе аўдыяфайлы будуць аўтаматычна сканвертаваныя ў `.mp3`.<br>\n",
        "  Гэтую опцыю можна выключыць - тады аўдыяфайлы будуць захаваныя ў зыходным фармаце (найчасьцей гэта `.opus` фармат)"
      ],
      "metadata": {
        "id": "SuA_Ohrn6L53"
      }
    },
    {
      "cell_type": "code",
      "source": [
        "youtube_video_link = \"https://www.youtube.com/watch?v=ZH_7s5MPWm0\" #@param {type:\"string\"}\n",
        "convert_to_mp3 = True #@param {type:\"boolean\"}\n",
        "\n",
        "assert len(youtube_video_link) > 0, 'Калі ласка, увядзі спасылку на youtube відэа'\n",
        "print(f'Пачынаецца спампоўка аўдыя з: \"{youtube_video_link}\"')\n",
        "\n",
        "## run from cloned repo instead of using built python library.\n",
        "# !yt-dlp -f bestaudio --extract-audio -o \"%(title)s.%(ext)s\" \"{youtube_video_link}\"\n",
        "!yt-dlp/yt-dlp.sh -f bestaudio --extract-audio -o \"audio/%(title)s.%(ext)s\"  \"{youtube_video_link}\"\n",
        "\n",
        "if convert_to_mp3 is True:\n",
        "    print()\n",
        "    convert_audio_to_mp3()\n",
        "\n",
        "print('\\nГатова!')"
      ],
      "metadata": {
        "id": "wZEKB4nlxhYn"
      },
      "execution_count": null,
      "outputs": []
    },
    {
      "cell_type": "code",
      "source": [],
      "metadata": {
        "id": "H8SbhF1v6WCT"
      },
      "execution_count": null,
      "outputs": []
    },
    {
      "cell_type": "markdown",
      "source": [
        "## Прайграць спампаваныя на віртуальную машыну аўдыя\n",
        "* Тут ты можаш праверыць спампаваныя на віртуальную машыну аўдыя "
      ],
      "metadata": {
        "id": "Pe_pRyxUAl__"
      }
    },
    {
      "cell_type": "code",
      "source": [
        "for fp in glob.glob('audio/*'):\n",
        "    print(fp)\n",
        "    display(ipd.Audio(fp))"
      ],
      "metadata": {
        "id": "6OB3gjPzAbkJ"
      },
      "execution_count": null,
      "outputs": []
    },
    {
      "cell_type": "code",
      "source": [],
      "metadata": {
        "id": "jJEwwDf1Abeh"
      },
      "execution_count": null,
      "outputs": []
    },
    {
      "cell_type": "markdown",
      "source": [
        "## Захаваць спампаваныя аўдыя на свой камп'ютар\n",
        "* Запусьці клетку, і ўсе аўдыяфайлы аўтаматычна спампуюцца на твой камп'ютар"
      ],
      "metadata": {
        "id": "hMutE1JhKjdb"
      }
    },
    {
      "cell_type": "code",
      "source": [
        "for fp in glob.glob('audio/*'):\n",
        "    print(f'Пачынаю спампоўку файла \"{fp}\" на твой камп\\'ютар')\n",
        "    files.download(fp)"
      ],
      "metadata": {
        "id": "lFl2XlJJKib2"
      },
      "execution_count": null,
      "outputs": []
    },
    {
      "cell_type": "code",
      "source": [],
      "metadata": {
        "id": "yRvMiAIQKiWl"
      },
      "execution_count": null,
      "outputs": []
    },
    {
      "cell_type": "code",
      "source": [],
      "metadata": {
        "id": "tkk6-3L9ShBd"
      },
      "execution_count": null,
      "outputs": []
    },
    {
      "cell_type": "code",
      "source": [],
      "metadata": {
        "id": "xq4DHrLFYSCv"
      },
      "execution_count": null,
      "outputs": []
    },
    {
      "cell_type": "markdown",
      "source": [
        "## Ачысьціць тэчку са спампаванымі файламі на воблаку (неабавязкова)\n",
        "* Калі спатрэбіцца, можаш выдаліць спампаваныя файлы на воблаку. Напрыклад калі захочаш спампаваць пэўны файл нанава.\n",
        "* Празь нейкі час віртуальная машына выключыцца самастойна, а ўсе даныя будуць выдалены. Таму можаш не выконваць гэтую клетку"
      ],
      "metadata": {
        "id": "xrz2KIyN_Wfj"
      }
    },
    {
      "cell_type": "code",
      "source": [
        "if os.path.isdir('audio'):\n",
        "    shutil.rmtree('audio')\n",
        "os.makedirs('audio')\n",
        "print('Тэчка з аўдыя на віртуальная машыне ачышчаная!')"
      ],
      "metadata": {
        "id": "YX9H64qr_bg4"
      },
      "execution_count": null,
      "outputs": []
    },
    {
      "cell_type": "code",
      "source": [],
      "metadata": {
        "id": "PVLuqob7K9NF"
      },
      "execution_count": null,
      "outputs": []
    },
    {
      "cell_type": "code",
      "source": [],
      "metadata": {
        "id": "15Eip1J93O19"
      },
      "execution_count": null,
      "outputs": []
    }
  ]
}
